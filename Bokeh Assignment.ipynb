{
 "cells": [
  {
   "cell_type": "code",
   "execution_count": 1,
   "id": "7154030b-7d88-42e5-a6e6-fb1a5158c21c",
   "metadata": {},
   "outputs": [],
   "source": [
    "from bokeh.plotting import figure, show\n",
    "from bokeh.models import ColumnDataSource\n",
    "import numpy as np\n",
    "from bokeh.palettes import Category10\n",
    "\n",
    "# 1. Create a Bokeh plot displaying a sine wave.\n",
    "x_sine = np.linspace(0, 10, 100)\n",
    "y_sine = np.sin(x_sine)\n",
    "\n",
    "p_sine = figure(title=\"Sine Wave\", x_axis_label='X', y_axis_label='sin(x)')\n",
    "p_sine.line(x_sine, y_sine, line_width=2)\n",
    "show(p_sine)\n"
   ]
  },
  {
   "cell_type": "code",
   "execution_count": 2,
   "id": "731c8910-5d6f-4289-afca-8131bfbf6907",
   "metadata": {},
   "outputs": [],
   "source": [
    "# 2. Create a Bokeh scatter plot using randomly generated x and y values with varying sizes and colors.\n",
    "np.random.seed(42)\n",
    "num_points_scatter = 50\n",
    "x_scatter = np.random.rand(num_points_scatter)\n",
    "y_scatter = np.random.rand(num_points_scatter)\n",
    "sizes = np.random.randint(10, 30, num_points_scatter)\n",
    "colors = [Category10[5][i % 5] for i in range(num_points_scatter)]\n",
    "\n",
    "source_scatter = ColumnDataSource(data=dict(x=x_scatter, y=y_scatter, sizes=sizes, colors=colors))\n",
    "\n",
    "p_scatter = figure(title=\"Random Scatter Plot with Size and Color\", x_axis_label='X', y_axis_label='Y')\n",
    "p_scatter.scatter(x='x', y='y', size='sizes', color='colors', source=source_scatter, alpha=0.6)\n",
    "show(p_scatter)"
   ]
  },
  {
   "cell_type": "code",
   "execution_count": 3,
   "id": "988b0504-3ddd-4482-b4db-fd9288caf4ea",
   "metadata": {},
   "outputs": [],
   "source": [
    "# 3. Generate a Bokeh bar chart representing the counts of different fruits.\n",
    "fruits = ['Apples', 'Oranges', 'Bananas', 'Pears']\n",
    "counts = [20, 25, 30, 35]\n",
    "\n",
    "source_bar = ColumnDataSource(data=dict(fruits=fruits, counts=counts, color=Category10[4]))\n",
    "\n",
    "p_bar = figure(x_range=fruits, height=350, title=\"Fruit Counts\")\n",
    "p_bar.vbar(x='fruits', top='counts', width=0.9, color='color', legend_field='fruits', source=source_bar)\n",
    "p_bar.xgrid.grid_line_color = None\n",
    "p_bar.y_range.start = 0\n",
    "show(p_bar)"
   ]
  },
  {
   "cell_type": "code",
   "execution_count": 4,
   "id": "fdd212bd-c71f-404b-b2c3-9d4aa8a0cb4f",
   "metadata": {},
   "outputs": [],
   "source": [
    "# 4. Create a Bokeh histogram to visualize the distribution of the given data.\n",
    "data_hist = np.random.randn(1000)\n",
    "hist, edges = np.histogram(data_hist, bins=30)\n",
    "\n",
    "source_hist = ColumnDataSource(data=dict(hist=hist, left=edges[:-1], right=edges[1:]))\n",
    "\n",
    "p_hist = figure(title=\"Histogram of Random Data\", height=350, x_axis_label='Value', y_axis_label='Frequency')\n",
    "p_hist.quad(bottom=0, top='hist', left='left', right='right', fill_color=\"skyblue\", line_color=\"white\", source=source_hist)\n",
    "show(p_hist)\n",
    "\n"
   ]
  },
  {
   "cell_type": "code",
   "execution_count": 5,
   "id": "93d98ba2-f48b-414c-9827-34bb46f066a6",
   "metadata": {},
   "outputs": [],
   "source": [
    "# 5. Create a Bokeh heatmap using the provided dataset.\n",
    "data_heatmap = np.random.rand(10, 10)\n",
    "x_heatmap = np.linspace(0, 1, 10)\n",
    "y_heatmap = np.linspace(0, 1, 10)\n",
    "xx_heatmap, yy_heatmap = np.meshgrid(x_heatmap, y_heatmap)\n",
    "\n",
    "# Flatten the data for ColumnDataSource\n",
    "flat_data = data_heatmap.flatten()\n",
    "flat_x = xx_heatmap.flatten()\n",
    "flat_y = yy_heatmap.flatten()\n",
    "\n",
    "source_heatmap = ColumnDataSource(data=dict(value=flat_data, x=flat_x, y=flat_y))\n",
    "\n",
    "p_heatmap = figure(title=\"Heatmap\", x_range=(0, 1), y_range=(0, 1),\n",
    "                   x_axis_label='X', y_axis_label='Y')\n",
    "\n",
    "# Define a color mapper\n",
    "from bokeh.models import LinearColorMapper\n",
    "color_mapper = LinearColorMapper(palette=\"Viridis256\", low=data_heatmap.min(), high=data_heatmap.max())\n",
    "\n",
    "# Use the color mapper in the rect glyph\n",
    "p_heatmap.rect(x='x', y='y', width=0.1, height=0.1,\n",
    "               fill_color={'field': 'value', 'transform': color_mapper},\n",
    "               line_color=None, source=source_heatmap)\n",
    "\n",
    "# Add a color bar\n",
    "from bokeh.models import ColorBar\n",
    "color_bar = ColorBar(color_mapper=color_mapper, label_standoff=12)\n",
    "p_heatmap.add_layout(color_bar, 'right')\n",
    "\n",
    "show(p_heatmap)"
   ]
  },
  {
   "cell_type": "code",
   "execution_count": null,
   "id": "ec33c0ce-7270-4532-83aa-fae11466ef4a",
   "metadata": {},
   "outputs": [],
   "source": []
  }
 ],
 "metadata": {
  "kernelspec": {
   "display_name": "Python 3 (ipykernel)",
   "language": "python",
   "name": "python3"
  },
  "language_info": {
   "codemirror_mode": {
    "name": "ipython",
    "version": 3
   },
   "file_extension": ".py",
   "mimetype": "text/x-python",
   "name": "python",
   "nbconvert_exporter": "python",
   "pygments_lexer": "ipython3",
   "version": "3.11.0"
  }
 },
 "nbformat": 4,
 "nbformat_minor": 5
}
